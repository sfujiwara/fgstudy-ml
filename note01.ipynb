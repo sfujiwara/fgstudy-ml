{
 "cells": [
  {
   "cell_type": "markdown",
   "metadata": {},
   "source": [
    "# 何はともあれ Keras を始めるぞい\n",
    "\n",
    "ベースは[この](https://github.com/fchollet/keras/blob/master/examples/mnist_mlp.py)サンプルコード。\n",
    "説明を簡略化するためにdropoutとかの処理を除いたりと、少し手を加えている。"
   ]
  },
  {
   "cell_type": "markdown",
   "metadata": {},
   "source": [
    "とにかくインポートしないと何も始まらない。"
   ]
  },
  {
   "cell_type": "code",
   "execution_count": 1,
   "metadata": {},
   "outputs": [
    {
     "name": "stderr",
     "output_type": "stream",
     "text": [
      "Using TensorFlow backend.\n"
     ]
    }
   ],
   "source": [
    "import keras"
   ]
  },
  {
   "cell_type": "markdown",
   "metadata": {},
   "source": [
    "MNISTデータセットをダウンロードするための専用モジュールが実装されているので、とりあえずそれを使おう。"
   ]
  },
  {
   "cell_type": "code",
   "execution_count": 2,
   "metadata": {},
   "outputs": [],
   "source": [
    "(x_train, y_train), (x_test, y_test) = keras.datasets.mnist.load_data()\n",
    "\n",
    "x_train = x_train.reshape(60000, 784).astype(\"float32\")\n",
    "x_test = x_test.reshape(10000, 784).astype(\"float32\")"
   ]
  },
  {
   "cell_type": "markdown",
   "metadata": {},
   "source": [
    "One-hot表現に変換する。\n",
    "`keras.utils` に、よく使う処理が用意されていて匠の優しい心遣いを感じる。"
   ]
  },
  {
   "cell_type": "code",
   "execution_count": 3,
   "metadata": {},
   "outputs": [
    {
     "name": "stdout",
     "output_type": "stream",
     "text": [
      "[5 0 4 ..., 5 6 8]\n"
     ]
    }
   ],
   "source": [
    "# 最初は正しい数字がそのまま入ってる\n",
    "print(y_train)"
   ]
  },
  {
   "cell_type": "code",
   "execution_count": 4,
   "metadata": {},
   "outputs": [],
   "source": [
    "# One-hot に変換\n",
    "y_train = keras.utils.to_categorical(y_train, 10)\n",
    "y_test = keras.utils.to_categorical(y_test, 10)"
   ]
  },
  {
   "cell_type": "code",
   "execution_count": 5,
   "metadata": {},
   "outputs": [
    {
     "name": "stdout",
     "output_type": "stream",
     "text": [
      "[[ 0.  0.  0. ...,  0.  0.  0.]\n",
      " [ 1.  0.  0. ...,  0.  0.  0.]\n",
      " [ 0.  0.  0. ...,  0.  0.  0.]\n",
      " ..., \n",
      " [ 0.  0.  0. ...,  0.  0.  0.]\n",
      " [ 0.  0.  0. ...,  0.  0.  0.]\n",
      " [ 0.  0.  0. ...,  0.  1.  0.]]\n"
     ]
    }
   ],
   "source": [
    "print(y_train)"
   ]
  },
  {
   "cell_type": "markdown",
   "metadata": {},
   "source": [
    "各セルの色の濃さが0~255で表されているのを、スケーリングして0~1にする。\n",
    "0~1の間に収まるようにスケーリングしたり、標準化（平均が 0、分散が1になるようなスケーリング）をすることが多い。"
   ]
  },
  {
   "cell_type": "code",
   "execution_count": 6,
   "metadata": {
    "collapsed": true
   },
   "outputs": [],
   "source": [
    "x_train /= 255\n",
    "x_test /= 255"
   ]
  },
  {
   "cell_type": "markdown",
   "metadata": {},
   "source": [
    "ネットワークの部分の実装はこれだけ！楽！"
   ]
  },
  {
   "cell_type": "code",
   "execution_count": 7,
   "metadata": {},
   "outputs": [],
   "source": [
    "model = keras.models.Sequential()\n",
    "model.add(keras.layers.Dense(128, activation='relu', input_shape=(784,)))\n",
    "model.add(keras.layers.Dense(10, activation='softmax'))"
   ]
  },
  {
   "cell_type": "markdown",
   "metadata": {},
   "source": [
    "どんなネットワークを作ったか見ることができて便利。\n",
    "この機能はマジで素晴らしい。"
   ]
  },
  {
   "cell_type": "code",
   "execution_count": 8,
   "metadata": {},
   "outputs": [
    {
     "name": "stdout",
     "output_type": "stream",
     "text": [
      "_________________________________________________________________\n",
      "Layer (type)                 Output Shape              Param #   \n",
      "=================================================================\n",
      "dense_1 (Dense)              (None, 128)               100480    \n",
      "_________________________________________________________________\n",
      "dense_2 (Dense)              (None, 10)                1290      \n",
      "=================================================================\n",
      "Total params: 101,770\n",
      "Trainable params: 101,770\n",
      "Non-trainable params: 0\n",
      "_________________________________________________________________\n"
     ]
    }
   ],
   "source": [
    "model.summary()"
   ]
  },
  {
   "cell_type": "markdown",
   "metadata": {},
   "source": [
    "損失関数と最適化手法に何を使うか、ここで指定している。"
   ]
  },
  {
   "cell_type": "code",
   "execution_count": 9,
   "metadata": {},
   "outputs": [],
   "source": [
    "model.compile(\n",
    "    loss='categorical_crossentropy',\n",
    "    optimizer=keras.optimizers.Adam(lr=1e-3),\n",
    "    metrics=['accuracy']\n",
    ")"
   ]
  },
  {
   "cell_type": "markdown",
   "metadata": {},
   "source": [
    "一通り終わったら `fit` メソッドを呼ぶだけ。"
   ]
  },
  {
   "cell_type": "code",
   "execution_count": 10,
   "metadata": {},
   "outputs": [
    {
     "name": "stdout",
     "output_type": "stream",
     "text": [
      "Train on 60000 samples, validate on 10000 samples\n",
      "Epoch 1/20\n",
      "60000/60000 [==============================] - 1s - loss: 0.3663 - acc: 0.8973 - val_loss: 0.2069 - val_acc: 0.9378\n",
      "Epoch 2/20\n",
      "60000/60000 [==============================] - 1s - loss: 0.1730 - acc: 0.9508 - val_loss: 0.1471 - val_acc: 0.9566\n",
      "Epoch 3/20\n",
      "60000/60000 [==============================] - 1s - loss: 0.1252 - acc: 0.9636 - val_loss: 0.1115 - val_acc: 0.9668\n",
      "Epoch 4/20\n",
      "60000/60000 [==============================] - 1s - loss: 0.0972 - acc: 0.9724 - val_loss: 0.0986 - val_acc: 0.9696\n",
      "Epoch 5/20\n",
      "60000/60000 [==============================] - 1s - loss: 0.0782 - acc: 0.9777 - val_loss: 0.1013 - val_acc: 0.9669\n",
      "Epoch 6/20\n",
      "60000/60000 [==============================] - 1s - loss: 0.0639 - acc: 0.9819 - val_loss: 0.0818 - val_acc: 0.9751\n",
      "Epoch 7/20\n",
      "60000/60000 [==============================] - 1s - loss: 0.0536 - acc: 0.9846 - val_loss: 0.0776 - val_acc: 0.9765\n",
      "Epoch 8/20\n",
      "60000/60000 [==============================] - 1s - loss: 0.0458 - acc: 0.9869 - val_loss: 0.0794 - val_acc: 0.9764\n",
      "Epoch 9/20\n",
      "60000/60000 [==============================] - 1s - loss: 0.0383 - acc: 0.9892 - val_loss: 0.0737 - val_acc: 0.9775\n",
      "Epoch 10/20\n",
      "60000/60000 [==============================] - 1s - loss: 0.0329 - acc: 0.9909 - val_loss: 0.0750 - val_acc: 0.9763\n",
      "Epoch 11/20\n",
      "60000/60000 [==============================] - 1s - loss: 0.0291 - acc: 0.9920 - val_loss: 0.0741 - val_acc: 0.9779\n",
      "Epoch 12/20\n",
      "60000/60000 [==============================] - 2s - loss: 0.0235 - acc: 0.9939 - val_loss: 0.0789 - val_acc: 0.9770\n",
      "Epoch 13/20\n",
      "60000/60000 [==============================] - 1s - loss: 0.0205 - acc: 0.9948 - val_loss: 0.0739 - val_acc: 0.9787\n",
      "Epoch 14/20\n",
      "60000/60000 [==============================] - 1s - loss: 0.0170 - acc: 0.9960 - val_loss: 0.0727 - val_acc: 0.9788\n",
      "Epoch 15/20\n",
      "60000/60000 [==============================] - 1s - loss: 0.0144 - acc: 0.9970 - val_loss: 0.0742 - val_acc: 0.9785\n",
      "Epoch 16/20\n",
      "60000/60000 [==============================] - 1s - loss: 0.0137 - acc: 0.9968 - val_loss: 0.0780 - val_acc: 0.9781\n",
      "Epoch 17/20\n",
      "60000/60000 [==============================] - 1s - loss: 0.0118 - acc: 0.9973 - val_loss: 0.0754 - val_acc: 0.9798\n",
      "Epoch 18/20\n",
      "60000/60000 [==============================] - 2s - loss: 0.0090 - acc: 0.9983 - val_loss: 0.0826 - val_acc: 0.9783\n",
      "Epoch 19/20\n",
      "60000/60000 [==============================] - 1s - loss: 0.0079 - acc: 0.9987 - val_loss: 0.0809 - val_acc: 0.9793\n",
      "Epoch 20/20\n",
      "60000/60000 [==============================] - 1s - loss: 0.0063 - acc: 0.9992 - val_loss: 0.0892 - val_acc: 0.9770\n"
     ]
    }
   ],
   "source": [
    "history = model.fit(\n",
    "    x_train, y_train,\n",
    "    batch_size=128,\n",
    "    epochs=20,\n",
    "    verbose=1,\n",
    "    validation_data=(x_test, y_test)\n",
    ")"
   ]
  }
 ],
 "metadata": {
  "kernelspec": {
   "display_name": "Python 2",
   "language": "python",
   "name": "python2"
  },
  "language_info": {
   "codemirror_mode": {
    "name": "ipython",
    "version": 2
   },
   "file_extension": ".py",
   "mimetype": "text/x-python",
   "name": "python",
   "nbconvert_exporter": "python",
   "pygments_lexer": "ipython2",
   "version": "2.7.13"
  }
 },
 "nbformat": 4,
 "nbformat_minor": 1
}
